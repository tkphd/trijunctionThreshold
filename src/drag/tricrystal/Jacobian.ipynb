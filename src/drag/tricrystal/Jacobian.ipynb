{
 "cells": [
  {
   "cell_type": "markdown",
   "metadata": {},
   "source": [
    "### Compute the Jacobian matrix of the analytical grain boundary profile function using SymPy!!!"
   ]
  },
  {
   "cell_type": "code",
   "execution_count": 1,
   "metadata": {
    "collapsed": false
   },
   "outputs": [],
   "source": [
    "from sympy import *\n",
    "from sympy.abc import theta\n",
    "a, x, x0, y0 = symbols('a x x0 y0')\n",
    "init_printing()"
   ]
  },
  {
   "cell_type": "code",
   "execution_count": 2,
   "metadata": {
    "collapsed": false
   },
   "outputs": [
    {
     "data": {
      "image/png": "[encoded data removed]",
      "text/latex": [
       "$$- \\frac{a}{2 \\theta} \\left(- \\theta + \\frac{\\pi}{2}\\right) + \\frac{a}{2 \\theta} \\operatorname{acos}{\\left (e^{- \\frac{2 \\theta}{a} x} \\sin{\\left (\\theta \\right )} \\right )}$$"
      ],
      "text/plain": [
       "                     ⎛ -2⋅θ⋅x        ⎞\n",
       "    ⎛     π⎞         ⎜ ───────       ⎟\n",
       "  a⋅⎜-θ + ─⎟         ⎜    a          ⎟\n",
       "    ⎝     2⎠   a⋅acos⎝ℯ       ⋅sin(θ)⎠\n",
       "- ────────── + ───────────────────────\n",
       "     2⋅θ                 2⋅θ          "
      ]
     },
     "execution_count": 2,
     "metadata": {},
     "output_type": "execute_result"
    }
   ],
   "source": [
    "expr = a/(2*theta) * acos(exp(-2*theta*x/a + log(sin(theta)))) - a/(2*theta) * (pi/2 - theta)\n",
    "expr"
   ]
  },
  {
   "cell_type": "code",
   "execution_count": 3,
   "metadata": {
    "collapsed": false
   },
   "outputs": [
    {
     "name": "stdout",
     "output_type": "stream",
     "text": [
      "y = -a*(-theta + pi/2)/(2*theta) + a*acos(exp(-2*theta*x/a)*sin(theta))/(2*theta)\n"
     ]
    }
   ],
   "source": [
    "print \"y =\", expr"
   ]
  },
  {
   "cell_type": "code",
   "execution_count": 4,
   "metadata": {
    "collapsed": false
   },
   "outputs": [
    {
     "data": {
      "image/png": "[encoded data removed]",
      "text/latex": [
       "$$- \\frac{- \\theta + \\frac{\\pi}{2}}{2 \\theta} + \\frac{1}{2 \\theta} \\operatorname{acos}{\\left (e^{- \\frac{2 \\theta}{a} x} \\sin{\\left (\\theta \\right )} \\right )} - \\frac{x e^{- \\frac{2 \\theta}{a} x} \\sin{\\left (\\theta \\right )}}{a \\sqrt{1 - e^{- \\frac{4 \\theta}{a} x} \\sin^{2}{\\left (\\theta \\right )}}}$$"
      ],
      "text/plain": [
       "               ⎛ -2⋅θ⋅x        ⎞            -2⋅θ⋅x              \n",
       "       π       ⎜ ───────       ⎟            ───────             \n",
       "  -θ + ─       ⎜    a          ⎟               a                \n",
       "       2   acos⎝ℯ       ⋅sin(θ)⎠         x⋅ℯ       ⋅sin(θ)      \n",
       "- ────── + ───────────────────── - ─────────────────────────────\n",
       "   2⋅θ              2⋅θ                   ______________________\n",
       "                                         ╱      -4⋅θ⋅x          \n",
       "                                        ╱       ───────         \n",
       "                                       ╱           a       2    \n",
       "                                   a⋅╲╱    1 - ℯ       ⋅sin (θ) "
      ]
     },
     "execution_count": 4,
     "metadata": {},
     "output_type": "execute_result"
    }
   ],
   "source": [
    "dy_da = diff(expr, a)\n",
    "dy_da"
   ]
  },
  {
   "cell_type": "code",
   "execution_count": 5,
   "metadata": {
    "collapsed": false
   },
   "outputs": [
    {
     "name": "stdout",
     "output_type": "stream",
     "text": [
      "dy/da = -(-theta + pi/2)/(2*theta) + acos(exp(-2*theta*x/a)*sin(theta))/(2*theta) - x*exp(-2*theta*x/a)*sin(theta)/(a*sqrt(1 - exp(-4*theta*x/a)*sin(theta)**2))\n"
     ]
    }
   ],
   "source": [
    "print \"dy/da =\", dy_da"
   ]
  },
  {
   "cell_type": "code",
   "execution_count": 6,
   "metadata": {
    "collapsed": false
   },
   "outputs": [
    {
     "data": {
      "image/png": "[encoded data removed]",
      "text/latex": [
       "$$\\frac{a}{2 \\theta} - \\frac{a \\left(e^{- \\frac{2 \\theta}{a} x} \\cos{\\left (\\theta \\right )} - \\frac{2 x}{a} e^{- \\frac{2 \\theta}{a} x} \\sin{\\left (\\theta \\right )}\\right)}{2 \\theta \\sqrt{1 - e^{- \\frac{4 \\theta}{a} x} \\sin^{2}{\\left (\\theta \\right )}}} + \\frac{a}{2 \\theta^{2}} \\left(- \\theta + \\frac{\\pi}{2}\\right) - \\frac{a}{2 \\theta^{2}} \\operatorname{acos}{\\left (e^{- \\frac{2 \\theta}{a} x} \\sin{\\left (\\theta \\right )} \\right )}$$"
      ],
      "text/plain": [
       "        ⎛                       -2⋅θ⋅x        ⎞                               \n",
       "        ⎜ -2⋅θ⋅x                ───────       ⎟                               \n",
       "        ⎜ ───────                  a          ⎟                      ⎛ -2⋅θ⋅x \n",
       "        ⎜    a             2⋅x⋅ℯ       ⋅sin(θ)⎟     ⎛     π⎞         ⎜ ───────\n",
       "      a⋅⎜ℯ       ⋅cos(θ) - ───────────────────⎟   a⋅⎜-θ + ─⎟         ⎜    a   \n",
       " a      ⎝                           a         ⎠     ⎝     2⎠   a⋅acos⎝ℯ       \n",
       "─── - ───────────────────────────────────────── + ────────── - ───────────────\n",
       "2⋅θ                 ______________________              2                   2 \n",
       "                   ╱      -4⋅θ⋅x                     2⋅θ                 2⋅θ  \n",
       "                  ╱       ───────                                             \n",
       "                 ╱           a       2                                        \n",
       "           2⋅θ⋅╲╱    1 - ℯ       ⋅sin (θ)                                     \n",
       "\n",
       "        \n",
       "        \n",
       "       ⎞\n",
       "       ⎟\n",
       "       ⎟\n",
       "⋅sin(θ)⎠\n",
       "────────\n",
       "        \n",
       "        \n",
       "        \n",
       "        \n",
       "        "
      ]
     },
     "execution_count": 6,
     "metadata": {},
     "output_type": "execute_result"
    }
   ],
   "source": [
    "dy_dt = diff(expr, theta)\n",
    "dy_dt"
   ]
  },
  {
   "cell_type": "code",
   "execution_count": 7,
   "metadata": {
    "collapsed": false
   },
   "outputs": [
    {
     "name": "stdout",
     "output_type": "stream",
     "text": [
      "dy/dθ = a/(2*theta) - a*(exp(-2*theta*x/a)*cos(theta) - 2*x*exp(-2*theta*x/a)*sin(theta)/a)/(2*theta*sqrt(1 - exp(-4*theta*x/a)*sin(theta)**2)) + a*(-theta + pi/2)/(2*theta**2) - a*acos(exp(-2*theta*x/a)*sin(theta))/(2*theta**2)\n"
     ]
    }
   ],
   "source": [
    "print \"dy/dθ =\", dy_dt"
   ]
  },
  {
   "cell_type": "markdown",
   "metadata": {
    "collapsed": true
   },
   "source": [
    "### Repeat with offsets for vertex position"
   ]
  },
  {
   "cell_type": "code",
   "execution_count": 8,
   "metadata": {
    "collapsed": false
   },
   "outputs": [
    {
     "data": {
      "image/png": "[encoded data removed]",
      "text/latex": [
       "$$- \\frac{a}{2 \\theta} \\left(- \\theta + \\frac{\\pi}{2}\\right) + \\frac{a}{2 \\theta} \\operatorname{acos}{\\left (e^{- \\frac{2 \\theta}{a} \\left(x - x_{0}\\right)} \\sin{\\left (\\theta \\right )} \\right )} + y_{0}$$"
      ],
      "text/plain": [
       "                     ⎛ -2⋅θ⋅(x - x₀)        ⎞     \n",
       "    ⎛     π⎞         ⎜ ──────────────       ⎟     \n",
       "  a⋅⎜-θ + ─⎟         ⎜       a              ⎟     \n",
       "    ⎝     2⎠   a⋅acos⎝ℯ              ⋅sin(θ)⎠     \n",
       "- ────────── + ────────────────────────────── + y₀\n",
       "     2⋅θ                    2⋅θ                   "
      ]
     },
     "execution_count": 8,
     "metadata": {},
     "output_type": "execute_result"
    }
   ],
   "source": [
    "expr = y0 + a/(2*theta) * acos(exp(-2*theta*(x - x0)/a + log(sin(theta)))) - a/(2*theta) * (pi/2 - theta)\n",
    "expr"
   ]
  },
  {
   "cell_type": "code",
   "execution_count": 9,
   "metadata": {
    "collapsed": false
   },
   "outputs": [
    {
     "name": "stdout",
     "output_type": "stream",
     "text": [
      "y = -a*(-theta + pi/2)/(2*theta) + a*acos(exp(-2*theta*(x - x0)/a)*sin(theta))/(2*theta) + y0\n"
     ]
    }
   ],
   "source": [
    "print \"y =\", expr"
   ]
  },
  {
   "cell_type": "code",
   "execution_count": 10,
   "metadata": {
    "collapsed": false
   },
   "outputs": [
    {
     "data": {
      "image/png": "[encoded data removed]",
      "text/latex": [
       "$$- \\frac{- \\theta + \\frac{\\pi}{2}}{2 \\theta} + \\frac{1}{2 \\theta} \\operatorname{acos}{\\left (e^{- \\frac{2 \\theta}{a} \\left(x - x_{0}\\right)} \\sin{\\left (\\theta \\right )} \\right )} - \\frac{\\left(x - x_{0}\\right) e^{- \\frac{2 \\theta}{a} \\left(x - x_{0}\\right)} \\sin{\\left (\\theta \\right )}}{a \\sqrt{1 - e^{- \\frac{4 \\theta}{a} \\left(x - x_{0}\\right)} \\sin^{2}{\\left (\\theta \\right )}}}$$"
      ],
      "text/plain": [
       "               ⎛ -2⋅θ⋅(x - x₀)        ⎞               -2⋅θ⋅(x - x₀)           \n",
       "       π       ⎜ ──────────────       ⎟               ──────────────          \n",
       "  -θ + ─       ⎜       a              ⎟                     a                 \n",
       "       2   acos⎝ℯ              ⋅sin(θ)⎠     (x - x₀)⋅ℯ              ⋅sin(θ)   \n",
       "- ────── + ──────────────────────────── - ────────────────────────────────────\n",
       "   2⋅θ                 2⋅θ                       _____________________________\n",
       "                                                ╱      -4⋅θ⋅(x - x₀)          \n",
       "                                               ╱       ──────────────         \n",
       "                                              ╱              a           2    \n",
       "                                          a⋅╲╱    1 - ℯ              ⋅sin (θ) "
      ]
     },
     "execution_count": 10,
     "metadata": {},
     "output_type": "execute_result"
    }
   ],
   "source": [
    "dy_da = diff(expr, a)\n",
    "dy_da"
   ]
  },
  {
   "cell_type": "code",
   "execution_count": 11,
   "metadata": {
    "collapsed": false
   },
   "outputs": [
    {
     "name": "stdout",
     "output_type": "stream",
     "text": [
      "dy/da = -(-theta + pi/2)/(2*theta) + acos(exp(-2*theta*(x - x0)/a)*sin(theta))/(2*theta) - (x - x0)*exp(-2*theta*(x - x0)/a)*sin(theta)/(a*sqrt(1 - exp(-4*theta*(x - x0)/a)*sin(theta)**2))\n"
     ]
    }
   ],
   "source": [
    "print \"dy/da =\", dy_da"
   ]
  },
  {
   "cell_type": "code",
   "execution_count": 12,
   "metadata": {
    "collapsed": false
   },
   "outputs": [
    {
     "data": {
      "image/png": "[encoded data removed]",
      "text/latex": [
       "$$\\frac{a}{2 \\theta} - \\frac{a \\left(e^{- \\frac{2 \\theta}{a} \\left(x - x_{0}\\right)} \\cos{\\left (\\theta \\right )} - \\frac{2}{a} \\left(x - x_{0}\\right) e^{- \\frac{2 \\theta}{a} \\left(x - x_{0}\\right)} \\sin{\\left (\\theta \\right )}\\right)}{2 \\theta \\sqrt{1 - e^{- \\frac{4 \\theta}{a} \\left(x - x_{0}\\right)} \\sin^{2}{\\left (\\theta \\right )}}} + \\frac{a}{2 \\theta^{2}} \\left(- \\theta + \\frac{\\pi}{2}\\right) - \\frac{a}{2 \\theta^{2}} \\operatorname{acos}{\\left (e^{- \\frac{2 \\theta}{a} \\left(x - x_{0}\\right)} \\sin{\\left (\\theta \\right )} \\right )}$$"
      ],
      "text/plain": [
       "        ⎛                                     -2⋅θ⋅(x - x₀)        ⎞          \n",
       "        ⎜ -2⋅θ⋅(x - x₀)                       ──────────────       ⎟          \n",
       "        ⎜ ──────────────                            a              ⎟          \n",
       "        ⎜       a                 2⋅(x - x₀)⋅ℯ              ⋅sin(θ)⎟     ⎛    \n",
       "      a⋅⎜ℯ              ⋅cos(θ) - ─────────────────────────────────⎟   a⋅⎜-θ +\n",
       " a      ⎝                                         a                ⎠     ⎝    \n",
       "─── - ────────────────────────────────────────────────────────────── + ───────\n",
       "2⋅θ                        _____________________________                     2\n",
       "                          ╱      -4⋅θ⋅(x - x₀)                            2⋅θ \n",
       "                         ╱       ──────────────                               \n",
       "                        ╱              a           2                          \n",
       "                  2⋅θ⋅╲╱    1 - ℯ              ⋅sin (θ)                       \n",
       "\n",
       "                                    \n",
       "                                    \n",
       "            ⎛ -2⋅θ⋅(x - x₀)        ⎞\n",
       " π⎞         ⎜ ──────────────       ⎟\n",
       " ─⎟         ⎜       a              ⎟\n",
       " 2⎠   a⋅acos⎝ℯ              ⋅sin(θ)⎠\n",
       "─── - ──────────────────────────────\n",
       "                      2             \n",
       "                   2⋅θ              \n",
       "                                    \n",
       "                                    \n",
       "                                    "
      ]
     },
     "execution_count": 12,
     "metadata": {},
     "output_type": "execute_result"
    }
   ],
   "source": [
    "dy_dt = diff(expr, theta)\n",
    "dy_dt"
   ]
  },
  {
   "cell_type": "code",
   "execution_count": 13,
   "metadata": {
    "collapsed": false
   },
   "outputs": [
    {
     "name": "stdout",
     "output_type": "stream",
     "text": [
      "dy/dθ = a/(2*theta) - a*(exp(-2*theta*(x - x0)/a)*cos(theta) - 2*(x - x0)*exp(-2*theta*(x - x0)/a)*sin(theta)/a)/(2*theta*sqrt(1 - exp(-4*theta*(x - x0)/a)*sin(theta)**2)) + a*(-theta + pi/2)/(2*theta**2) - a*acos(exp(-2*theta*(x - x0)/a)*sin(theta))/(2*theta**2)\n"
     ]
    }
   ],
   "source": [
    "print \"dy/dθ =\", dy_dt"
   ]
  },
  {
   "cell_type": "code",
   "execution_count": 14,
   "metadata": {
    "collapsed": false
   },
   "outputs": [
    {
     "data": {
      "image/png": "[encoded data removed]",
      "text/latex": [
       "$$- \\frac{e^{- \\frac{2 \\theta}{a} \\left(x - x_{0}\\right)} \\sin{\\left (\\theta \\right )}}{\\sqrt{1 - e^{- \\frac{4 \\theta}{a} \\left(x - x_{0}\\right)} \\sin^{2}{\\left (\\theta \\right )}}}$$"
      ],
      "text/plain": [
       "       -2⋅θ⋅(x - x₀)              \n",
       "       ──────────────             \n",
       "             a                    \n",
       "     -ℯ              ⋅sin(θ)      \n",
       "──────────────────────────────────\n",
       "     _____________________________\n",
       "    ╱      -4⋅θ⋅(x - x₀)          \n",
       "   ╱       ──────────────         \n",
       "  ╱              a           2    \n",
       "╲╱    1 - ℯ              ⋅sin (θ) "
      ]
     },
     "execution_count": 14,
     "metadata": {},
     "output_type": "execute_result"
    }
   ],
   "source": [
    "dy_dx = diff(expr, x0)\n",
    "dy_dx"
   ]
  },
  {
   "cell_type": "code",
   "execution_count": 15,
   "metadata": {
    "collapsed": false
   },
   "outputs": [
    {
     "name": "stdout",
     "output_type": "stream",
     "text": [
      "dy/dx0 = -exp(-2*theta*(x - x0)/a)*sin(theta)/sqrt(1 - exp(-4*theta*(x - x0)/a)*sin(theta)**2)\n"
     ]
    }
   ],
   "source": [
    "print \"dy/dx0 =\", dy_dx"
   ]
  },
  {
   "cell_type": "code",
   "execution_count": 16,
   "metadata": {
    "collapsed": false
   },
   "outputs": [
    {
     "data": {
      "image/png": "[encoded data removed]",
      "text/latex": [
       "$$1$$"
      ],
      "text/plain": [
       "1"
      ]
     },
     "execution_count": 16,
     "metadata": {},
     "output_type": "execute_result"
    }
   ],
   "source": [
    "dy_dy = diff(expr, y0)\n",
    "dy_dy"
   ]
  },
  {
   "cell_type": "code",
   "execution_count": 17,
   "metadata": {
    "collapsed": false
   },
   "outputs": [
    {
     "name": "stdout",
     "output_type": "stream",
     "text": [
      "dy/dy0 = 1\n"
     ]
    }
   ],
   "source": [
    "print \"dy/dy0 =\", dy_dy"
   ]
  }
 ],
 "metadata": {
  "kernelspec": {
   "display_name": "Python 2",
   "language": "python",
   "name": "python2"
  },
  "language_info": {
   "codemirror_mode": {
    "name": "ipython",
    "version": 2
   },
   "file_extension": ".py",
   "mimetype": "text/x-python",
   "name": "python",
   "nbconvert_exporter": "python",
   "pygments_lexer": "ipython2",
   "version": "2.7.11"
  }
 },
 "nbformat": 4,
 "nbformat_minor": 0
}
