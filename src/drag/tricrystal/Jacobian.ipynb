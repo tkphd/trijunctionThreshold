{
 "cells": [
  {
   "cell_type": "markdown",
   "metadata": {},
   "source": [
    "### Compute the Jacobian matrix of the analytical grain boundary profile function using SymPy!!!"
   ]
  },
  {
   "cell_type": "code",
   "execution_count": 1,
   "metadata": {
    "collapsed": true
   },
   "outputs": [],
   "source": [
    "from sympy import *\n",
    "from sympy.abc import theta\n",
    "a, x = symbols('a x')\n",
    "init_printing()"
   ]
  },
  {
   "cell_type": "code",
   "execution_count": 7,
   "metadata": {
    "collapsed": true
   },
   "outputs": [],
   "source": [
    "expr = a/(2*theta) * acos(exp(-2*theta*x/a + log(sin(theta)))) - a/(2*theta) * (pi/2 - theta)"
   ]
  },
  {
   "cell_type": "code",
   "execution_count": 8,
   "metadata": {
    "collapsed": false
   },
   "outputs": [
    {
     "data": {
      "image/png": "[encoded data removed]",
      "text/latex": [
       "$$- \\frac{- \\theta + \\frac{\\pi}{2}}{2 \\theta} + \\frac{1}{2 \\theta} \\operatorname{acos}{\\left (e^{- \\frac{2 \\theta}{a} x} \\sin{\\left (\\theta \\right )} \\right )} - \\frac{x e^{- \\frac{2 \\theta}{a} x} \\sin{\\left (\\theta \\right )}}{a \\sqrt{1 - e^{- \\frac{4 \\theta}{a} x} \\sin^{2}{\\left (\\theta \\right )}}}$$"
      ],
      "text/plain": [
       "               ⎛ -2⋅θ⋅x        ⎞            -2⋅θ⋅x              \n",
       "       π       ⎜ ───────       ⎟            ───────             \n",
       "  -θ + ─       ⎜    a          ⎟               a                \n",
       "       2   acos⎝ℯ       ⋅sin(θ)⎠         x⋅ℯ       ⋅sin(θ)      \n",
       "- ────── + ───────────────────── - ─────────────────────────────\n",
       "   2⋅θ              2⋅θ                   ______________________\n",
       "                                         ╱      -4⋅θ⋅x          \n",
       "                                        ╱       ───────         \n",
       "                                       ╱           a       2    \n",
       "                                   a⋅╲╱    1 - ℯ       ⋅sin (θ) "
      ]
     },
     "execution_count": 8,
     "metadata": {},
     "output_type": "execute_result"
    }
   ],
   "source": [
    "dy_da = diff(expr, a)\n",
    "dy_da"
   ]
  },
  {
   "cell_type": "code",
   "execution_count": 9,
   "metadata": {
    "collapsed": false
   },
   "outputs": [
    {
     "data": {
      "image/png": "[encoded data removed]",
      "text/latex": [
       "$$\\frac{a}{2 \\theta} - \\frac{a \\left(e^{- \\frac{2 \\theta}{a} x} \\cos{\\left (\\theta \\right )} - \\frac{2 x}{a} e^{- \\frac{2 \\theta}{a} x} \\sin{\\left (\\theta \\right )}\\right)}{2 \\theta \\sqrt{1 - e^{- \\frac{4 \\theta}{a} x} \\sin^{2}{\\left (\\theta \\right )}}} + \\frac{a}{2 \\theta^{2}} \\left(- \\theta + \\frac{\\pi}{2}\\right) - \\frac{a}{2 \\theta^{2}} \\operatorname{acos}{\\left (e^{- \\frac{2 \\theta}{a} x} \\sin{\\left (\\theta \\right )} \\right )}$$"
      ],
      "text/plain": [
       "        ⎛                       -2⋅θ⋅x        ⎞                               \n",
       "        ⎜ -2⋅θ⋅x                ───────       ⎟                               \n",
       "        ⎜ ───────                  a          ⎟                      ⎛ -2⋅θ⋅x \n",
       "        ⎜    a             2⋅x⋅ℯ       ⋅sin(θ)⎟     ⎛     π⎞         ⎜ ───────\n",
       "      a⋅⎜ℯ       ⋅cos(θ) - ───────────────────⎟   a⋅⎜-θ + ─⎟         ⎜    a   \n",
       " a      ⎝                           a         ⎠     ⎝     2⎠   a⋅acos⎝ℯ       \n",
       "─── - ───────────────────────────────────────── + ────────── - ───────────────\n",
       "2⋅θ                 ______________________              2                   2 \n",
       "                   ╱      -4⋅θ⋅x                     2⋅θ                 2⋅θ  \n",
       "                  ╱       ───────                                             \n",
       "                 ╱           a       2                                        \n",
       "           2⋅θ⋅╲╱    1 - ℯ       ⋅sin (θ)                                     \n",
       "\n",
       "        \n",
       "        \n",
       "       ⎞\n",
       "       ⎟\n",
       "       ⎟\n",
       "⋅sin(θ)⎠\n",
       "────────\n",
       "        \n",
       "        \n",
       "        \n",
       "        \n",
       "        "
      ]
     },
     "execution_count": 9,
     "metadata": {},
     "output_type": "execute_result"
    }
   ],
   "source": [
    "dy_dt = diff(expr, theta)\n",
    "dy_dt"
   ]
  },
  {
   "cell_type": "code",
   "execution_count": null,
   "metadata": {
    "collapsed": true
   },
   "outputs": [],
   "source": []
  }
 ],
 "metadata": {
  "kernelspec": {
   "display_name": "Python 2",
   "language": "python",
   "name": "python2"
  },
  "language_info": {
   "codemirror_mode": {
    "name": "ipython",
    "version": 2
   },
   "file_extension": ".py",
   "mimetype": "text/x-python",
   "name": "python",
   "nbconvert_exporter": "python",
   "pygments_lexer": "ipython2",
   "version": "2.7.11"
  }
 },
 "nbformat": 4,
 "nbformat_minor": 0
}
